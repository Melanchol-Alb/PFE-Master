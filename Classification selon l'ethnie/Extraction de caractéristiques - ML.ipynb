{
 "cells": [
  {
   "cell_type": "code",
   "execution_count": 1,
   "id": "6a11b832",
   "metadata": {},
   "outputs": [
    {
     "name": "stderr",
     "output_type": "stream",
     "text": [
      "C:\\Users\\DELL\\anaconda3\\lib\\site-packages\\scipy\\__init__.py:146: UserWarning: A NumPy version >=1.16.5 and <1.23.0 is required for this version of SciPy (detected version 1.24.3\n",
      "  warnings.warn(f\"A NumPy version >={np_minversion} and <{np_maxversion}\"\n"
     ]
    }
   ],
   "source": [
    "import numpy as np \n",
    "import matplotlib.pyplot as plt\n",
    "import glob\n",
    "import cv2\n",
    "import os\n",
    "import seaborn as sns\n",
    "from keras.applications.vgg16 import VGG16\n",
    "from keras.applications import InceptionV3\n",
    "\n",
    "from sklearn import preprocessing\n",
    "from keras.utils import to_categorical"
   ]
  },
  {
   "cell_type": "markdown",
   "id": "b7590fca",
   "metadata": {},
   "source": [
    "# Extraction de caractèristiques avec VGG16"
   ]
  },
  {
   "cell_type": "code",
   "execution_count": 19,
   "id": "0a6f440f",
   "metadata": {},
   "outputs": [
    {
     "name": "stdout",
     "output_type": "stream",
     "text": [
      "Asian\n",
      "Black\n",
      "White\n",
      "5/5 [==============================] - 37s 7s/step\n",
      "5/5 [==============================] - 35s 7s/step\n"
     ]
    }
   ],
   "source": [
    "SIZE = 222\n",
    "\n",
    "train_images = []\n",
    "train_labels = [] \n",
    "\n",
    "for directory_path in glob.glob('../Data/SFA_lab/Train/*'):\n",
    "    label = directory_path.split(\"\\\\\")[-1]\n",
    "    print(label)\n",
    "    for img_path in glob.glob(os.path.join(directory_path, \"*.jpg\")):\n",
    "        img = cv2.imread(img_path, cv2.IMREAD_COLOR)       \n",
    "        img = cv2.resize(img, (SIZE, SIZE))\n",
    "        img = cv2.cvtColor(img, cv2.COLOR_RGB2BGR)\n",
    "        train_images.append(img)\n",
    "        train_labels.append(label)\n",
    "\n",
    "train_images = np.array(train_images)\n",
    "train_labels = np.array(train_labels)\n",
    "\n",
    "test_images = []\n",
    "test_labels = [] \n",
    "for directory_path in glob.glob(\"../Data/SFA_lab/Test/*\"):\n",
    "    fruit_label = directory_path.split(\"\\\\\")[-1]\n",
    "    for img_path in glob.glob(os.path.join(directory_path, \"*.jpg\")):\n",
    "        img = cv2.imread(img_path, cv2.IMREAD_COLOR)\n",
    "        img = cv2.resize(img, (SIZE, SIZE))\n",
    "        img = cv2.cvtColor(img, cv2.COLOR_RGB2BGR)\n",
    "        test_images.append(img)\n",
    "        test_labels.append(fruit_label)\n",
    "        \n",
    "for directory_path in glob.glob(\"../Data/SFA_lab/Validate/*\"):\n",
    "    fruit_label = directory_path.split(\"\\\\\")[-1]\n",
    "    for img_path in glob.glob(os.path.join(directory_path, \"*.jpg\")):\n",
    "        img = cv2.imread(img_path, cv2.IMREAD_COLOR)\n",
    "        img = cv2.resize(img, (SIZE, SIZE))\n",
    "        img = cv2.cvtColor(img, cv2.COLOR_RGB2BGR)\n",
    "        test_images.append(img)\n",
    "        test_labels.append(fruit_label)\n",
    "              \n",
    "test_images = np.array(test_images)\n",
    "test_labels = np.array(test_labels)\n",
    "\n",
    "#Ecoder\n",
    "le = preprocessing.LabelEncoder()\n",
    "le.fit(test_labels)\n",
    "test_labels_encoded = le.transform(test_labels)\n",
    "le.fit(train_labels)\n",
    "train_labels_encoded = le.transform(train_labels)\n",
    "\n",
    "x_train, y_train, x_test, y_test = train_images, train_labels_encoded, test_images, test_labels_encoded\n",
    "\n",
    "###################################################################\n",
    "# Normalize pixel values to between 0 and 1\n",
    "x_train, x_test = x_train / 255.0, x_test / 255.0\n",
    "\n",
    "#One hot encode y values for neural network. \n",
    "y_train_one_hot = to_categorical(y_train)\n",
    "y_test_one_hot = to_categorical(y_test)\n",
    "\n",
    "#############################\n",
    "#Charger le modèle en mémoire sans rajouter de couches fully connected\n",
    "VGG_model = VGG16(weights='imagenet', include_top=False, input_shape=(SIZE, SIZE, 3))\n",
    "for layer in VGG_model.layers:\n",
    "    layer.trainable = False\n",
    "\n",
    "#Extraction des caractèristiques par prédiction\n",
    "feature_extractor=VGG_model.predict(x_train)\n",
    "\n",
    "features = feature_extractor.reshape(feature_extractor.shape[0], -1)\n",
    "\n",
    "#Même chose pour les données de test\n",
    "X_test_feature = VGG_model.predict(x_test)\n",
    "X_test_features = X_test_feature.reshape(X_test_feature.shape[0], -1)"
   ]
  },
  {
   "cell_type": "markdown",
   "id": "41a3250a",
   "metadata": {},
   "source": [
    "# VGG16 - Random Forest"
   ]
  },
  {
   "cell_type": "code",
   "execution_count": 20,
   "id": "85b79c39",
   "metadata": {},
   "outputs": [
    {
     "name": "stdout",
     "output_type": "stream",
     "text": [
      "La meilleur accuracy est  0.7142857142857143  pour n_estimators =  59\n"
     ]
    },
    {
     "data": {
      "image/png": "[encoded data removed]",
      "text/plain": [
       "<Figure size 432x288 with 1 Axes>"
      ]
     },
     "metadata": {
      "needs_background": "light"
     },
     "output_type": "display_data"
    }
   ],
   "source": [
    "X_for_RF = features #This is our X input to RF\n",
    "from sklearn.ensemble import RandomForestClassifier\n",
    "from sklearn import metrics\n",
    "from sklearn.metrics import confusion_matrix\n",
    "#RANDOM FOREST\n",
    "ACC = []\n",
    "IDs = []\n",
    "cm = 0\n",
    "best = 0\n",
    "bestEval = 0\n",
    "for es in range(1,300):\n",
    "    RF_model = RandomForestClassifier(n_estimators = es, random_state = 42)\n",
    "\n",
    "    # Train the model on training data\n",
    "    RF_model.fit(X_for_RF, y_train) #For sklearn no one hot encoding\n",
    "\n",
    "    #Now predict using the trained RF model. \n",
    "    prediction_RF = RF_model.predict(X_test_features)\n",
    "    #Inverse le transform to get original label back. \n",
    "    prediction_RF = le.inverse_transform(prediction_RF)\n",
    "    \n",
    "    a = metrics.accuracy_score(test_labels, prediction_RF)\n",
    "    if(a>bestEval):\n",
    "        cm = confusion_matrix(test_labels, prediction_RF)\n",
    "        bestEval = a\n",
    "        best = es\n",
    "    ACC.append(a)\n",
    "    IDs.append(es)\n",
    "\n",
    "plt.plot(IDs,ACC)\n",
    "plt.xlabel('n_estimators')\n",
    "plt.ylabel('Test Accuracy')\n",
    "print('La meilleur accuracy est ',bestEval,' pour n_estimators = ',best)"
   ]
  },
  {
   "cell_type": "code",
   "execution_count": 21,
   "id": "0e8f5534",
   "metadata": {},
   "outputs": [
    {
     "data": {
      "text/plain": [
       "<AxesSubplot:>"
      ]
     },
     "execution_count": 21,
     "metadata": {},
     "output_type": "execute_result"
    },
    {
     "data": {
      "image/png": "[encoded data removed]",
      "text/plain": [
       "<Figure size 432x288 with 2 Axes>"
      ]
     },
     "metadata": {
      "needs_background": "light"
     },
     "output_type": "display_data"
    }
   ],
   "source": [
    "sns.heatmap(cm, annot=True)"
   ]
  },
  {
   "cell_type": "markdown",
   "id": "213fda0a",
   "metadata": {},
   "source": [
    "# VGG16 - SVM"
   ]
  },
  {
   "cell_type": "code",
   "execution_count": 10,
   "id": "178eb1bf",
   "metadata": {},
   "outputs": [
    {
     "name": "stdout",
     "output_type": "stream",
     "text": [
      "La meilleur accuracy est  0.7278911564625851  pour C =  9\n"
     ]
    },
    {
     "data": {
      "image/png": "[encoded data removed]",
      "text/plain": [
       "<Figure size 432x288 with 1 Axes>"
      ]
     },
     "metadata": {
      "needs_background": "light"
     },
     "output_type": "display_data"
    }
   ],
   "source": [
    "from sklearn.svm import SVC\n",
    "X_for_SVM = features #This is our X input to RF\n",
    "\n",
    "ACC = []\n",
    "IDs = []\n",
    "cm = 0\n",
    "best = 0\n",
    "bestEval = 0\n",
    "for c in range(2,20):\n",
    "# SVM\n",
    "    SVM_model = SVC(C = c)\n",
    "\n",
    "# Train the model on training data\n",
    "    SVM_model.fit(X_for_SVM, y_train)\n",
    "\n",
    "# Predict using the trained SVM model\n",
    "    prediction_SVM = SVM_model.predict(X_test_features)\n",
    "\n",
    "# Inverse transform to get original label back\n",
    "    prediction_SVM = le.inverse_transform(prediction_SVM)\n",
    "    \n",
    "    a = metrics.accuracy_score(test_labels, prediction_SVM)\n",
    "    if(a>bestEval):\n",
    "        cm = confusion_matrix(test_labels, prediction_SVM)\n",
    "        bestEval = a\n",
    "        best = c\n",
    "    ACC.append(a)\n",
    "    IDs.append(c)\n",
    "\n",
    "plt.plot(IDs,ACC)\n",
    "plt.xlabel('C')\n",
    "plt.ylabel('Test Accuracy')\n",
    "print('La meilleur accuracy est ',bestEval,' pour C = ',best)"
   ]
  },
  {
   "cell_type": "code",
   "execution_count": 11,
   "id": "597b7b98",
   "metadata": {},
   "outputs": [
    {
     "data": {
      "text/plain": [
       "<AxesSubplot:>"
      ]
     },
     "execution_count": 11,
     "metadata": {},
     "output_type": "execute_result"
    },
    {
     "data": {
      "image/png": "[encoded data removed]",
      "text/plain": [
       "<Figure size 432x288 with 2 Axes>"
      ]
     },
     "metadata": {
      "needs_background": "light"
     },
     "output_type": "display_data"
    }
   ],
   "source": [
    "sns.heatmap(cm, annot=True)"
   ]
  },
  {
   "cell_type": "code",
   "execution_count": null,
   "id": "d69db876",
   "metadata": {},
   "outputs": [],
   "source": []
  },
  {
   "cell_type": "markdown",
   "id": "4baae2b2",
   "metadata": {},
   "source": [
    "# Avec InceptionV3"
   ]
  },
  {
   "cell_type": "code",
   "execution_count": 12,
   "id": "555c75f3",
   "metadata": {},
   "outputs": [
    {
     "name": "stdout",
     "output_type": "stream",
     "text": [
      "Asian\n",
      "Black\n",
      "White\n",
      "5/5 [==============================] - 12s 2s/step\n",
      "5/5 [==============================] - 9s 2s/step\n"
     ]
    }
   ],
   "source": [
    "SIZE = 222\n",
    "\n",
    "train_images = []\n",
    "train_labels = [] \n",
    "\n",
    "for directory_path in glob.glob('../Data/SFA_lab/Train/*'):\n",
    "    label = directory_path.split(\"\\\\\")[-1]\n",
    "    print(label)\n",
    "    for img_path in glob.glob(os.path.join(directory_path, \"*.jpg\")):\n",
    "        img = cv2.imread(img_path, cv2.IMREAD_COLOR)       \n",
    "        img = cv2.resize(img, (SIZE, SIZE))\n",
    "        img = cv2.cvtColor(img, cv2.COLOR_RGB2BGR)\n",
    "        train_images.append(img)\n",
    "        train_labels.append(label)\n",
    "\n",
    "train_images = np.array(train_images)\n",
    "train_labels = np.array(train_labels)\n",
    "\n",
    "test_images = []\n",
    "test_labels = [] \n",
    "for directory_path in glob.glob(\"../Data/SFA_lab/Test/*\"):\n",
    "    fruit_label = directory_path.split(\"\\\\\")[-1]\n",
    "    for img_path in glob.glob(os.path.join(directory_path, \"*.jpg\")):\n",
    "        img = cv2.imread(img_path, cv2.IMREAD_COLOR)\n",
    "        img = cv2.resize(img, (SIZE, SIZE))\n",
    "        img = cv2.cvtColor(img, cv2.COLOR_RGB2BGR)\n",
    "        test_images.append(img)\n",
    "        test_labels.append(fruit_label)\n",
    "        \n",
    "for directory_path in glob.glob(\"../Data/SFA_lab/Validate/*\"):\n",
    "    fruit_label = directory_path.split(\"\\\\\")[-1]\n",
    "    for img_path in glob.glob(os.path.join(directory_path, \"*.jpg\")):\n",
    "        img = cv2.imread(img_path, cv2.IMREAD_COLOR)\n",
    "        img = cv2.resize(img, (SIZE, SIZE))\n",
    "        img = cv2.cvtColor(img, cv2.COLOR_RGB2BGR)\n",
    "        test_images.append(img)\n",
    "        test_labels.append(fruit_label)\n",
    "              \n",
    "test_images = np.array(test_images)\n",
    "test_labels = np.array(test_labels)\n",
    "\n",
    "#Ecoder\n",
    "le = preprocessing.LabelEncoder()\n",
    "le.fit(test_labels)\n",
    "test_labels_encoded = le.transform(test_labels)\n",
    "le.fit(train_labels)\n",
    "train_labels_encoded = le.transform(train_labels)\n",
    "\n",
    "x_train, y_train, x_test, y_test = train_images, train_labels_encoded, test_images, test_labels_encoded\n",
    "\n",
    "###################################################################\n",
    "# Normalize pixel values to between 0 and 1\n",
    "x_train, x_test = x_train / 255.0, x_test / 255.0\n",
    "\n",
    "#One hot encode y values for neural network. \n",
    "y_train_one_hot = to_categorical(y_train)\n",
    "y_test_one_hot = to_categorical(y_test)\n",
    "\n",
    "#############################\n",
    "#Charger le modèle en mémoire sans rajouter de couches fully connected\n",
    "INCEPTION_model = InceptionV3(weights='imagenet', include_top=False, input_shape=(SIZE, SIZE, 3))\n",
    "for layer in INCEPTION_model.layers:\n",
    "    layer.trainable = False\n",
    "\n",
    "#Extraction des caractèristiques par prédiction\n",
    "feature_extractor=INCEPTION_model.predict(x_train)\n",
    "\n",
    "features = feature_extractor.reshape(feature_extractor.shape[0], -1)\n",
    "\n",
    "#Même chose pour les données de test\n",
    "X_test_feature = INCEPTION_model.predict(x_test)\n",
    "X_test_features = X_test_feature.reshape(X_test_feature.shape[0], -1)"
   ]
  },
  {
   "cell_type": "markdown",
   "id": "55bb1b9a",
   "metadata": {},
   "source": [
    "# InceptionV3 - Random Forest"
   ]
  },
  {
   "cell_type": "code",
   "execution_count": 15,
   "id": "8b06aa57",
   "metadata": {},
   "outputs": [
    {
     "name": "stdout",
     "output_type": "stream",
     "text": [
      "La meilleur accuracy est  0.6598639455782312  pour n_estimators =  185\n"
     ]
    },
    {
     "data": {
      "image/png": "[encoded data removed]",
      "text/plain": [
       "<Figure size 432x288 with 1 Axes>"
      ]
     },
     "metadata": {
      "needs_background": "light"
     },
     "output_type": "display_data"
    }
   ],
   "source": [
    "X_for_RF = features #This is our X input to RF\n",
    "from sklearn.ensemble import RandomForestClassifier\n",
    "from sklearn import metrics\n",
    "from sklearn.metrics import confusion_matrix\n",
    "#RANDOM FOREST\n",
    "ACC = []\n",
    "IDs = []\n",
    "cm = 0\n",
    "best = 0\n",
    "bestEval = 0\n",
    "for es in range(1,300):\n",
    "    RF_model = RandomForestClassifier(n_estimators = es, random_state = 42)\n",
    "\n",
    "    # Train the model on training data\n",
    "    RF_model.fit(X_for_RF, y_train) #For sklearn no one hot encoding\n",
    "\n",
    "    #Now predict using the trained RF model.\n",
    "    prediction_RF = RF_model.predict(X_test_features)\n",
    "    #Inverse le transform to get original label back. \n",
    "    prediction_RF = le.inverse_transform(prediction_RF)\n",
    "    \n",
    "    a = metrics.accuracy_score(test_labels, prediction_RF)\n",
    "    if(a>bestEval):\n",
    "        cm = confusion_matrix(test_labels, prediction_RF)\n",
    "        bestEval = a\n",
    "        best = es\n",
    "    ACC.append(a)\n",
    "    IDs.append(es)\n",
    "\n",
    "plt.plot(IDs,ACC)\n",
    "plt.xlabel('n_estimators')\n",
    "plt.ylabel('Test Accuracy')\n",
    "print('La meilleur accuracy est ',bestEval,' pour n_estimators = ',best)"
   ]
  },
  {
   "cell_type": "code",
   "execution_count": 16,
   "id": "5c05cad8",
   "metadata": {},
   "outputs": [
    {
     "data": {
      "text/plain": [
       "<AxesSubplot:>"
      ]
     },
     "execution_count": 16,
     "metadata": {},
     "output_type": "execute_result"
    },
    {
     "data": {
      "image/png": "[encoded data removed]",
      "text/plain": [
       "<Figure size 432x288 with 2 Axes>"
      ]
     },
     "metadata": {
      "needs_background": "light"
     },
     "output_type": "display_data"
    }
   ],
   "source": [
    "sns.heatmap(cm, annot=True)"
   ]
  },
  {
   "cell_type": "markdown",
   "id": "73ba8187",
   "metadata": {},
   "source": [
    "# InceptionV3 - SVM"
   ]
  },
  {
   "cell_type": "code",
   "execution_count": 17,
   "id": "de081cbb",
   "metadata": {},
   "outputs": [
    {
     "name": "stdout",
     "output_type": "stream",
     "text": [
      "La meilleur accuracy est  0.6530612244897959  pour C =  3\n"
     ]
    },
    {
     "data": {
      "image/png": "[encoded data removed]",
      "text/plain": [
       "<Figure size 432x288 with 1 Axes>"
      ]
     },
     "metadata": {
      "needs_background": "light"
     },
     "output_type": "display_data"
    }
   ],
   "source": [
    "from sklearn.svm import SVC\n",
    "X_for_SVM = features #This is our X input to RF\n",
    "\n",
    "ACC = []\n",
    "IDs = []\n",
    "cm = 0\n",
    "best = 0\n",
    "bestEval = 0\n",
    "for c in range(2,20):\n",
    "# SVM\n",
    "    SVM_model = SVC(C = c)\n",
    "\n",
    "# Train the model on training data\n",
    "    SVM_model.fit(X_for_SVM, y_train)\n",
    "\n",
    "# Predict using the trained SVM model\n",
    "    prediction_SVM = SVM_model.predict(X_test_features)\n",
    "\n",
    "# Inverse transform to get original label back\n",
    "    prediction_SVM = le.inverse_transform(prediction_SVM)\n",
    "    \n",
    "    a = metrics.accuracy_score(test_labels, prediction_SVM)\n",
    "    if(a>bestEval):\n",
    "        cm = confusion_matrix(test_labels, prediction_SVM)\n",
    "        bestEval = a\n",
    "        best = c\n",
    "    ACC.append(a)\n",
    "    IDs.append(c)\n",
    "\n",
    "plt.plot(IDs,ACC)\n",
    "plt.xlabel('C')\n",
    "plt.ylabel('Test Accuracy')\n",
    "print('La meilleur accuracy est ',bestEval,' pour C = ',best)"
   ]
  },
  {
   "cell_type": "code",
   "execution_count": 18,
   "id": "fdb369cc",
   "metadata": {},
   "outputs": [
    {
     "data": {
      "text/plain": [
       "<AxesSubplot:>"
      ]
     },
     "execution_count": 18,
     "metadata": {},
     "output_type": "execute_result"
    },
    {
     "data": {
      "image/png": "[encoded data removed]",
      "text/plain": [
       "<Figure size 432x288 with 2 Axes>"
      ]
     },
     "metadata": {
      "needs_background": "light"
     },
     "output_type": "display_data"
    }
   ],
   "source": [
    "sns.heatmap(cm, annot=True)"
   ]
  },
  {
   "cell_type": "code",
   "execution_count": null,
   "id": "dcb96aa1",
   "metadata": {},
   "outputs": [],
   "source": []
  }
 ],
 "metadata": {
  "kernelspec": {
   "display_name": "Python 3 (ipykernel)",
   "language": "python",
   "name": "python3"
  },
  "language_info": {
   "codemirror_mode": {
    "name": "ipython",
    "version": 3
   },
   "file_extension": ".py",
   "mimetype": "text/x-python",
   "name": "python",
   "nbconvert_exporter": "python",
   "pygments_lexer": "ipython3",
   "version": "3.9.12"
  }
 },
 "nbformat": 4,
 "nbformat_minor": 5
}
